{
 "cells": [
  {
   "cell_type": "code",
   "execution_count": 2,
   "id": "99b5f087",
   "metadata": {},
   "outputs": [],
   "source": [
    "import pandas as pd\n",
    "import pickle\n",
    "from sklearn.feature_extraction.text import CountVectorizer\n",
    "from sklearn.metrics.pairwise import cosine_similarity\n",
    "import requests"
   ]
  },
  {
   "cell_type": "code",
   "execution_count": 3,
   "id": "a7c8af4c",
   "metadata": {},
   "outputs": [],
   "source": [
    "movies = pd.read_csv('movies.csv')"
   ]
  },
  {
   "cell_type": "code",
   "execution_count": 4,
   "id": "6b3c4c84",
   "metadata": {},
   "outputs": [
    {
     "data": {
      "text/html": [
       "<div>\n",
       "<style scoped>\n",
       "    .dataframe tbody tr th:only-of-type {\n",
       "        vertical-align: middle;\n",
       "    }\n",
       "\n",
       "    .dataframe tbody tr th {\n",
       "        vertical-align: top;\n",
       "    }\n",
       "\n",
       "    .dataframe thead th {\n",
       "        text-align: right;\n",
       "    }\n",
       "</style>\n",
       "<table border=\"1\" class=\"dataframe\">\n",
       "  <thead>\n",
       "    <tr style=\"text-align: right;\">\n",
       "      <th></th>\n",
       "      <th>id</th>\n",
       "      <th>title</th>\n",
       "      <th>tags</th>\n",
       "    </tr>\n",
       "  </thead>\n",
       "  <tbody>\n",
       "    <tr>\n",
       "      <th>0</th>\n",
       "      <td>19995</td>\n",
       "      <td>Avatar</td>\n",
       "      <td>action adventure fantasy sciencefiction cultur...</td>\n",
       "    </tr>\n",
       "    <tr>\n",
       "      <th>1</th>\n",
       "      <td>285</td>\n",
       "      <td>Pirates of the Caribbean: At World's End</td>\n",
       "      <td>adventure fantasy action ocean drug_abuse exot...</td>\n",
       "    </tr>\n",
       "    <tr>\n",
       "      <th>2</th>\n",
       "      <td>206647</td>\n",
       "      <td>Spectre</td>\n",
       "      <td>action adventure crime spy based_on_novel secr...</td>\n",
       "    </tr>\n",
       "    <tr>\n",
       "      <th>3</th>\n",
       "      <td>49026</td>\n",
       "      <td>The Dark Knight Rises</td>\n",
       "      <td>action crime drama thriller dc_comics crime_fi...</td>\n",
       "    </tr>\n",
       "    <tr>\n",
       "      <th>4</th>\n",
       "      <td>49529</td>\n",
       "      <td>John Carter</td>\n",
       "      <td>action adventure sciencefiction based_on_novel...</td>\n",
       "    </tr>\n",
       "  </tbody>\n",
       "</table>\n",
       "</div>"
      ],
      "text/plain": [
       "       id                                     title  \\\n",
       "0   19995                                    Avatar   \n",
       "1     285  Pirates of the Caribbean: At World's End   \n",
       "2  206647                                   Spectre   \n",
       "3   49026                     The Dark Knight Rises   \n",
       "4   49529                               John Carter   \n",
       "\n",
       "                                                tags  \n",
       "0  action adventure fantasy sciencefiction cultur...  \n",
       "1  adventure fantasy action ocean drug_abuse exot...  \n",
       "2  action adventure crime spy based_on_novel secr...  \n",
       "3  action crime drama thriller dc_comics crime_fi...  \n",
       "4  action adventure sciencefiction based_on_novel...  "
      ]
     },
     "execution_count": 4,
     "metadata": {},
     "output_type": "execute_result"
    }
   ],
   "source": [
    "movies.head()"
   ]
  },
  {
   "cell_type": "code",
   "execution_count": 5,
   "id": "b11675cc",
   "metadata": {},
   "outputs": [],
   "source": [
    "cv = CountVectorizer(max_features=5000)\n",
    "vectors = cv.fit_transform(movies['tags']).toarray()"
   ]
  },
  {
   "cell_type": "code",
   "execution_count": 26,
   "id": "2bbdbbd4",
   "metadata": {},
   "outputs": [],
   "source": [
    "def fetch_details(movie_id):\n",
    "    response = requests.get(\"https://api.themoviedb.org/3/movie/{}?api_key=4d3a04e97e46d3313ca2082c381d09e2&language=en-US\".format(movie_id))\n",
    "    data = response.json()\n",
    "    return data\n",
    "\n",
    "def get_similarity(index):\n",
    "    similarity = cosine_similarity([vectors[index]], vectors)\n",
    "    return similarity[0]\n",
    "\n",
    "def get_recommendations(id):\n",
    "    idx = movies[movies['id']==id].index[0]\n",
    "    sim_scores = list(enumerate(get_similarity(idx)))\n",
    "    sim_scores = sorted(sim_scores, key=lambda x: x[1], reverse=True)\n",
    "    sim_scores = sim_scores[1:11]\n",
    "    movie_indices = [i[0] for i in sim_scores]\n",
    "    return movies['title'].iloc[movie_indices]"
   ]
  },
  {
   "cell_type": "code",
   "execution_count": 38,
   "id": "0fba6256",
   "metadata": {},
   "outputs": [],
   "source": [
    "name = \"Interstellar\""
   ]
  },
  {
   "cell_type": "code",
   "execution_count": 39,
   "id": "660536dc",
   "metadata": {},
   "outputs": [
    {
     "data": {
      "text/plain": [
       "157336"
      ]
     },
     "execution_count": 39,
     "metadata": {},
     "output_type": "execute_result"
    }
   ],
   "source": [
    "movie_id = movies[movies['title']==name]['id'].values[0]\n",
    "movie_id"
   ]
  },
  {
   "cell_type": "code",
   "execution_count": 29,
   "id": "4a2d90d7",
   "metadata": {},
   "outputs": [
    {
     "data": {
      "text/plain": [
       "{'adult': False,\n",
       " 'backdrop_path': '/7ABsaBkO1jA2psC8Hy4IDhkID4h.jpg',\n",
       " 'belongs_to_collection': {'id': 87096,\n",
       "  'name': 'Avatar Collection',\n",
       "  'poster_path': '/gC3tW9a45RGOzzSh6wv91pFnmFr.jpg',\n",
       "  'backdrop_path': '/6qkJLRCZp9Y3ovXti5tSuhH0DpO.jpg'},\n",
       " 'budget': 237000000,\n",
       " 'genres': [{'id': 28, 'name': 'Action'},\n",
       "  {'id': 12, 'name': 'Adventure'},\n",
       "  {'id': 14, 'name': 'Fantasy'},\n",
       "  {'id': 878, 'name': 'Science Fiction'}],\n",
       " 'homepage': 'https://www.avatar.com/movies/avatar',\n",
       " 'id': 19995,\n",
       " 'imdb_id': 'tt0499549',\n",
       " 'original_language': 'en',\n",
       " 'original_title': 'Avatar',\n",
       " 'overview': 'In the 22nd century, a paraplegic Marine is dispatched to the moon Pandora on a unique mission, but becomes torn between following orders and protecting an alien civilization.',\n",
       " 'popularity': 696.244,\n",
       " 'poster_path': '/jRXYjXNq0Cs2TcJjLkki24MLp7u.jpg',\n",
       " 'production_companies': [{'id': 25,\n",
       "   'logo_path': '/qZCc1lty5FzX30aOCVRBLzaVmcp.png',\n",
       "   'name': '20th Century Fox',\n",
       "   'origin_country': 'US'},\n",
       "  {'id': 290,\n",
       "   'logo_path': '/Q8mw2AOQQc8Qg0uNwLWq86DVZv.png',\n",
       "   'name': 'Ingenious Media',\n",
       "   'origin_country': 'GB'},\n",
       "  {'id': 444,\n",
       "   'logo_path': '/42UPdZl6B2cFXgNUASR8hSt9mpS.png',\n",
       "   'name': 'Dune Entertainment',\n",
       "   'origin_country': 'US'},\n",
       "  {'id': 574,\n",
       "   'logo_path': '/iB6GjNVHs5hOqcEYt2rcjBqIjki.png',\n",
       "   'name': 'Lightstorm Entertainment',\n",
       "   'origin_country': 'US'}],\n",
       " 'production_countries': [{'iso_3166_1': 'US',\n",
       "   'name': 'United States of America'},\n",
       "  {'iso_3166_1': 'GB', 'name': 'United Kingdom'}],\n",
       " 'release_date': '2009-12-15',\n",
       " 'revenue': 2920357254,\n",
       " 'runtime': 162,\n",
       " 'spoken_languages': [{'english_name': 'English',\n",
       "   'iso_639_1': 'en',\n",
       "   'name': 'English'},\n",
       "  {'english_name': 'Spanish', 'iso_639_1': 'es', 'name': 'Español'}],\n",
       " 'status': 'Released',\n",
       " 'tagline': 'Enter the world of Pandora.',\n",
       " 'title': 'Avatar',\n",
       " 'video': False,\n",
       " 'vote_average': 7.532,\n",
       " 'vote_count': 26628}"
      ]
     },
     "execution_count": 29,
     "metadata": {},
     "output_type": "execute_result"
    }
   ],
   "source": [
    "fetch_details(movie_id)"
   ]
  },
  {
   "cell_type": "code",
   "execution_count": 40,
   "id": "aedd73db",
   "metadata": {},
   "outputs": [
    {
     "data": {
      "text/plain": [
       "4332               Silent Running\n",
       "51                    Pacific Rim\n",
       "635                     Apollo 13\n",
       "239                       Gravity\n",
       "270                   The Martian\n",
       "2421                          ATL\n",
       "4108    In the Shadow of the Moon\n",
       "96                      Inception\n",
       "2966        2001: A Space Odyssey\n",
       "2375             Midnight Special\n",
       "Name: title, dtype: object"
      ]
     },
     "execution_count": 40,
     "metadata": {},
     "output_type": "execute_result"
    }
   ],
   "source": [
    "get_recommendations(movie_id)"
   ]
  },
  {
   "cell_type": "code",
   "execution_count": 41,
   "id": "536b51ec",
   "metadata": {},
   "outputs": [
    {
     "data": {
      "text/plain": [
       "0                                         avatar\n",
       "1       pirates of the caribbean: at world's end\n",
       "2                                        spectre\n",
       "3                          the dark knight rises\n",
       "4                                    john carter\n",
       "                          ...                   \n",
       "4798                                 el mariachi\n",
       "4799                                   newlyweds\n",
       "4800                   signed, sealed, delivered\n",
       "4801                            shanghai calling\n",
       "4802                           my date with drew\n",
       "Name: title, Length: 4803, dtype: object"
      ]
     },
     "execution_count": 41,
     "metadata": {},
     "output_type": "execute_result"
    }
   ],
   "source": []
  },
  {
   "cell_type": "code",
   "execution_count": null,
   "id": "e5ea8a96",
   "metadata": {},
   "outputs": [],
   "source": []
  }
 ],
 "metadata": {
  "kernelspec": {
   "display_name": "Python 3 (ipykernel)",
   "language": "python",
   "name": "python3"
  },
  "language_info": {
   "codemirror_mode": {
    "name": "ipython",
    "version": 3
   },
   "file_extension": ".py",
   "mimetype": "text/x-python",
   "name": "python",
   "nbconvert_exporter": "python",
   "pygments_lexer": "ipython3",
   "version": "3.9.12"
  }
 },
 "nbformat": 4,
 "nbformat_minor": 5
}
