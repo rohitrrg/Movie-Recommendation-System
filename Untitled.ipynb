{
 "cells": [
  {
   "cell_type": "code",
   "execution_count": 1,
   "id": "afade46b",
   "metadata": {},
   "outputs": [],
   "source": [
    "import numpy as np\n",
    "import pandas as pd\n",
    "from ast import literal_eval\n",
    "import pickle"
   ]
  },
  {
   "cell_type": "code",
   "execution_count": 16,
   "id": "b56bb198",
   "metadata": {},
   "outputs": [
    {
     "name": "stdout",
     "output_type": "stream",
     "text": [
      "<class 'pandas.core.frame.DataFrame'>\n",
      "RangeIndex: 4803 entries, 0 to 4802\n",
      "Data columns (total 20 columns):\n",
      " #   Column                Non-Null Count  Dtype  \n",
      "---  ------                --------------  -----  \n",
      " 0   budget                4803 non-null   int64  \n",
      " 1   genres                4803 non-null   object \n",
      " 2   homepage              1712 non-null   object \n",
      " 3   id                    4803 non-null   int64  \n",
      " 4   keywords              4803 non-null   object \n",
      " 5   original_language     4803 non-null   object \n",
      " 6   original_title        4803 non-null   object \n",
      " 7   overview              4800 non-null   object \n",
      " 8   popularity            4803 non-null   float64\n",
      " 9   production_companies  4803 non-null   object \n",
      " 10  production_countries  4803 non-null   object \n",
      " 11  release_date          4802 non-null   object \n",
      " 12  revenue               4803 non-null   int64  \n",
      " 13  runtime               4801 non-null   float64\n",
      " 14  spoken_languages      4803 non-null   object \n",
      " 15  status                4803 non-null   object \n",
      " 16  tagline               3959 non-null   object \n",
      " 17  title                 4803 non-null   object \n",
      " 18  vote_average          4803 non-null   float64\n",
      " 19  vote_count            4803 non-null   int64  \n",
      "dtypes: float64(3), int64(4), object(13)\n",
      "memory usage: 750.6+ KB\n"
     ]
    }
   ],
   "source": [
    "movies = pd.read_csv(\"./data/tmdb_5000_movies.csv\")\n",
    "movies.info()"
   ]
  },
  {
   "cell_type": "code",
   "execution_count": 17,
   "id": "945e206a",
   "metadata": {},
   "outputs": [],
   "source": [
    "movies = movies[['id','title','genres','keywords','original_language','production_companies','production_countries','overview']]"
   ]
  },
  {
   "cell_type": "code",
   "execution_count": 9,
   "id": "c8b6ec85",
   "metadata": {},
   "outputs": [
    {
     "name": "stdout",
     "output_type": "stream",
     "text": [
      "<class 'pandas.core.frame.DataFrame'>\n",
      "RangeIndex: 4803 entries, 0 to 4802\n",
      "Data columns (total 3 columns):\n",
      " #   Column    Non-Null Count  Dtype \n",
      "---  ------    --------------  ----- \n",
      " 0   movie_id  4803 non-null   int64 \n",
      " 1   cast      4803 non-null   object\n",
      " 2   crew      4803 non-null   object\n",
      "dtypes: int64(1), object(2)\n",
      "memory usage: 112.7+ KB\n"
     ]
    }
   ],
   "source": [
    "credits = pd.read_csv(\"./data/tmdb_5000_credits.csv\", usecols=['movie_id','cast','crew'])\n",
    "credits.info()"
   ]
  },
  {
   "cell_type": "code",
   "execution_count": 18,
   "id": "bb176ead",
   "metadata": {},
   "outputs": [],
   "source": [
    "movies = movies.merge(credits, left_on='id', right_on='movie_id')\n",
    "movies.drop('movie_id', axis=1, inplace=True)"
   ]
  },
  {
   "cell_type": "code",
   "execution_count": 19,
   "id": "eabfcbc6",
   "metadata": {},
   "outputs": [
    {
     "data": {
      "text/plain": [
       "Index(['id', 'title', 'genres', 'keywords', 'original_language',\n",
       "       'production_companies', 'production_countries', 'overview', 'cast',\n",
       "       'crew'],\n",
       "      dtype='object')"
      ]
     },
     "execution_count": 19,
     "metadata": {},
     "output_type": "execute_result"
    }
   ],
   "source": [
    "movies.columns"
   ]
  },
  {
   "cell_type": "code",
   "execution_count": 20,
   "id": "8943f856",
   "metadata": {},
   "outputs": [
    {
     "data": {
      "text/plain": [
       "(4803, 10)"
      ]
     },
     "execution_count": 20,
     "metadata": {},
     "output_type": "execute_result"
    }
   ],
   "source": [
    "movies.shape"
   ]
  },
  {
   "cell_type": "code",
   "execution_count": 21,
   "id": "e5962ae5",
   "metadata": {},
   "outputs": [
    {
     "data": {
      "text/plain": [
       "id                      0\n",
       "title                   0\n",
       "genres                  0\n",
       "keywords                0\n",
       "original_language       0\n",
       "production_companies    0\n",
       "production_countries    0\n",
       "overview                3\n",
       "cast                    0\n",
       "crew                    0\n",
       "dtype: int64"
      ]
     },
     "execution_count": 21,
     "metadata": {},
     "output_type": "execute_result"
    }
   ],
   "source": [
    "movies.isnull().sum()"
   ]
  },
  {
   "cell_type": "markdown",
   "id": "4bd93b56",
   "metadata": {},
   "source": [
    "# Data Cleaning"
   ]
  },
  {
   "cell_type": "code",
   "execution_count": 22,
   "id": "6b512241",
   "metadata": {},
   "outputs": [],
   "source": [
    "from ast import literal_eval"
   ]
  },
  {
   "cell_type": "code",
   "execution_count": 24,
   "id": "8aac0ef3",
   "metadata": {},
   "outputs": [],
   "source": [
    "movies['genres'] = movies['genres'].apply(lambda x: [i['name'] for i in literal_eval(x)])\n",
    "movies['keywords'] = movies['keywords'].apply(lambda x: [i['name'] for i in literal_eval(x)])"
   ]
  },
  {
   "cell_type": "code",
   "execution_count": 25,
   "id": "fd59b185",
   "metadata": {},
   "outputs": [
    {
     "data": {
      "text/html": [
       "<div>\n",
       "<style scoped>\n",
       "    .dataframe tbody tr th:only-of-type {\n",
       "        vertical-align: middle;\n",
       "    }\n",
       "\n",
       "    .dataframe tbody tr th {\n",
       "        vertical-align: top;\n",
       "    }\n",
       "\n",
       "    .dataframe thead th {\n",
       "        text-align: right;\n",
       "    }\n",
       "</style>\n",
       "<table border=\"1\" class=\"dataframe\">\n",
       "  <thead>\n",
       "    <tr style=\"text-align: right;\">\n",
       "      <th></th>\n",
       "      <th>genres</th>\n",
       "      <th>keywords</th>\n",
       "    </tr>\n",
       "  </thead>\n",
       "  <tbody>\n",
       "    <tr>\n",
       "      <th>0</th>\n",
       "      <td>[Action, Adventure, Fantasy, Science Fiction]</td>\n",
       "      <td>[culture clash, future, space war, space colon...</td>\n",
       "    </tr>\n",
       "    <tr>\n",
       "      <th>1</th>\n",
       "      <td>[Adventure, Fantasy, Action]</td>\n",
       "      <td>[ocean, drug abuse, exotic island, east india ...</td>\n",
       "    </tr>\n",
       "    <tr>\n",
       "      <th>2</th>\n",
       "      <td>[Action, Adventure, Crime]</td>\n",
       "      <td>[spy, based on novel, secret agent, sequel, mi...</td>\n",
       "    </tr>\n",
       "    <tr>\n",
       "      <th>3</th>\n",
       "      <td>[Action, Crime, Drama, Thriller]</td>\n",
       "      <td>[dc comics, crime fighter, terrorist, secret i...</td>\n",
       "    </tr>\n",
       "    <tr>\n",
       "      <th>4</th>\n",
       "      <td>[Action, Adventure, Science Fiction]</td>\n",
       "      <td>[based on novel, mars, medallion, space travel...</td>\n",
       "    </tr>\n",
       "  </tbody>\n",
       "</table>\n",
       "</div>"
      ],
      "text/plain": [
       "                                          genres  \\\n",
       "0  [Action, Adventure, Fantasy, Science Fiction]   \n",
       "1                   [Adventure, Fantasy, Action]   \n",
       "2                     [Action, Adventure, Crime]   \n",
       "3               [Action, Crime, Drama, Thriller]   \n",
       "4           [Action, Adventure, Science Fiction]   \n",
       "\n",
       "                                            keywords  \n",
       "0  [culture clash, future, space war, space colon...  \n",
       "1  [ocean, drug abuse, exotic island, east india ...  \n",
       "2  [spy, based on novel, secret agent, sequel, mi...  \n",
       "3  [dc comics, crime fighter, terrorist, secret i...  \n",
       "4  [based on novel, mars, medallion, space travel...  "
      ]
     },
     "execution_count": 25,
     "metadata": {},
     "output_type": "execute_result"
    }
   ],
   "source": [
    "movies[['genres','keywords']].head()"
   ]
  },
  {
   "cell_type": "code",
   "execution_count": 26,
   "id": "b9923147",
   "metadata": {},
   "outputs": [],
   "source": [
    "def fetch_cast(obj):\n",
    "    L = []\n",
    "    counter = 0\n",
    "    for i in literal_eval(obj):\n",
    "        if counter!=3:\n",
    "            L.append(i['name'])\n",
    "            counter+=1\n",
    "        else:\n",
    "            break\n",
    "    return L\n",
    "\n",
    "def fetch_director(x):\n",
    "    L = []\n",
    "    for i in literal_eval(x):\n",
    "        if i['job'] == 'Director':\n",
    "            L.append(i['name'])\n",
    "            break\n",
    "    return L"
   ]
  },
  {
   "cell_type": "code",
   "execution_count": 27,
   "id": "176a25a8",
   "metadata": {},
   "outputs": [],
   "source": [
    "movies['cast'] = movies['cast'].apply(fetch_cast)\n",
    "movies['crew'] = movies['crew'].apply(fetch_director)"
   ]
  },
  {
   "cell_type": "code",
   "execution_count": 28,
   "id": "37a1f019",
   "metadata": {},
   "outputs": [
    {
     "data": {
      "text/html": [
       "<div>\n",
       "<style scoped>\n",
       "    .dataframe tbody tr th:only-of-type {\n",
       "        vertical-align: middle;\n",
       "    }\n",
       "\n",
       "    .dataframe tbody tr th {\n",
       "        vertical-align: top;\n",
       "    }\n",
       "\n",
       "    .dataframe thead th {\n",
       "        text-align: right;\n",
       "    }\n",
       "</style>\n",
       "<table border=\"1\" class=\"dataframe\">\n",
       "  <thead>\n",
       "    <tr style=\"text-align: right;\">\n",
       "      <th></th>\n",
       "      <th>cast</th>\n",
       "      <th>crew</th>\n",
       "    </tr>\n",
       "  </thead>\n",
       "  <tbody>\n",
       "    <tr>\n",
       "      <th>0</th>\n",
       "      <td>[Sam Worthington, Zoe Saldana, Sigourney Weaver]</td>\n",
       "      <td>[James Cameron]</td>\n",
       "    </tr>\n",
       "    <tr>\n",
       "      <th>1</th>\n",
       "      <td>[Johnny Depp, Orlando Bloom, Keira Knightley]</td>\n",
       "      <td>[Gore Verbinski]</td>\n",
       "    </tr>\n",
       "    <tr>\n",
       "      <th>2</th>\n",
       "      <td>[Daniel Craig, Christoph Waltz, Léa Seydoux]</td>\n",
       "      <td>[Sam Mendes]</td>\n",
       "    </tr>\n",
       "    <tr>\n",
       "      <th>3</th>\n",
       "      <td>[Christian Bale, Michael Caine, Gary Oldman]</td>\n",
       "      <td>[Christopher Nolan]</td>\n",
       "    </tr>\n",
       "    <tr>\n",
       "      <th>4</th>\n",
       "      <td>[Taylor Kitsch, Lynn Collins, Samantha Morton]</td>\n",
       "      <td>[Andrew Stanton]</td>\n",
       "    </tr>\n",
       "  </tbody>\n",
       "</table>\n",
       "</div>"
      ],
      "text/plain": [
       "                                               cast                 crew\n",
       "0  [Sam Worthington, Zoe Saldana, Sigourney Weaver]      [James Cameron]\n",
       "1     [Johnny Depp, Orlando Bloom, Keira Knightley]     [Gore Verbinski]\n",
       "2      [Daniel Craig, Christoph Waltz, Léa Seydoux]         [Sam Mendes]\n",
       "3      [Christian Bale, Michael Caine, Gary Oldman]  [Christopher Nolan]\n",
       "4    [Taylor Kitsch, Lynn Collins, Samantha Morton]     [Andrew Stanton]"
      ]
     },
     "execution_count": 28,
     "metadata": {},
     "output_type": "execute_result"
    }
   ],
   "source": [
    "movies[['cast','crew']].head()"
   ]
  },
  {
   "cell_type": "code",
   "execution_count": 29,
   "id": "372fc22e",
   "metadata": {},
   "outputs": [],
   "source": [
    "# production companies\n",
    "movies['production_companies'] = movies['production_companies'].apply(lambda x: [i['name'] for i in literal_eval(x)])\n",
    "movies['production_countries'] = movies['production_countries'].apply(lambda x: [i['name'] for i in literal_eval(x)])"
   ]
  },
  {
   "cell_type": "code",
   "execution_count": 30,
   "id": "392aede4",
   "metadata": {},
   "outputs": [
    {
     "data": {
      "text/html": [
       "<div>\n",
       "<style scoped>\n",
       "    .dataframe tbody tr th:only-of-type {\n",
       "        vertical-align: middle;\n",
       "    }\n",
       "\n",
       "    .dataframe tbody tr th {\n",
       "        vertical-align: top;\n",
       "    }\n",
       "\n",
       "    .dataframe thead th {\n",
       "        text-align: right;\n",
       "    }\n",
       "</style>\n",
       "<table border=\"1\" class=\"dataframe\">\n",
       "  <thead>\n",
       "    <tr style=\"text-align: right;\">\n",
       "      <th></th>\n",
       "      <th>production_companies</th>\n",
       "      <th>production_countries</th>\n",
       "    </tr>\n",
       "  </thead>\n",
       "  <tbody>\n",
       "    <tr>\n",
       "      <th>0</th>\n",
       "      <td>[Ingenious Film Partners, Twentieth Century Fo...</td>\n",
       "      <td>[United States of America, United Kingdom]</td>\n",
       "    </tr>\n",
       "    <tr>\n",
       "      <th>1</th>\n",
       "      <td>[Walt Disney Pictures, Jerry Bruckheimer Films...</td>\n",
       "      <td>[United States of America]</td>\n",
       "    </tr>\n",
       "    <tr>\n",
       "      <th>2</th>\n",
       "      <td>[Columbia Pictures, Danjaq, B24]</td>\n",
       "      <td>[United Kingdom, United States of America]</td>\n",
       "    </tr>\n",
       "    <tr>\n",
       "      <th>3</th>\n",
       "      <td>[Legendary Pictures, Warner Bros., DC Entertai...</td>\n",
       "      <td>[United States of America]</td>\n",
       "    </tr>\n",
       "    <tr>\n",
       "      <th>4</th>\n",
       "      <td>[Walt Disney Pictures]</td>\n",
       "      <td>[United States of America]</td>\n",
       "    </tr>\n",
       "  </tbody>\n",
       "</table>\n",
       "</div>"
      ],
      "text/plain": [
       "                                production_companies  \\\n",
       "0  [Ingenious Film Partners, Twentieth Century Fo...   \n",
       "1  [Walt Disney Pictures, Jerry Bruckheimer Films...   \n",
       "2                   [Columbia Pictures, Danjaq, B24]   \n",
       "3  [Legendary Pictures, Warner Bros., DC Entertai...   \n",
       "4                             [Walt Disney Pictures]   \n",
       "\n",
       "                         production_countries  \n",
       "0  [United States of America, United Kingdom]  \n",
       "1                  [United States of America]  \n",
       "2  [United Kingdom, United States of America]  \n",
       "3                  [United States of America]  \n",
       "4                  [United States of America]  "
      ]
     },
     "execution_count": 30,
     "metadata": {},
     "output_type": "execute_result"
    }
   ],
   "source": [
    "movies[['production_companies','production_countries']].head()"
   ]
  },
  {
   "cell_type": "code",
   "execution_count": 38,
   "id": "4984489b",
   "metadata": {},
   "outputs": [],
   "source": [
    "movies['genres'] = movies['genres'].apply(lambda x: [str.lower(i.replace(\" \",\"\")) for i in x])\n",
    "movies['keywords'] = movies['keywords'].apply(lambda x: [str.lower(i.replace(\" \",\"_\")) for i in x])\n",
    "movies['cast'] = movies['cast'].apply(lambda x: [str.lower(i.replace(\" \",\"_\")) for i in x])\n",
    "movies['crew'] = movies['crew'].apply(lambda x: [str.lower(i.replace(\" \",\"_\")) for i in x])\n",
    "movies['production_companies'] = movies['production_companies'].apply(lambda x: [str.lower(i.replace(\" \",\"_\")) for i in x])\n",
    "movies['production_countries'] = movies['production_countries'].apply(lambda x: [str.lower(i.replace(\" \",\"_\")) for i in x])\n",
    "movies['original_language'] = movies['original_language'].apply(lambda x: [x])"
   ]
  },
  {
   "cell_type": "code",
   "execution_count": 39,
   "id": "a45dee25",
   "metadata": {},
   "outputs": [
    {
     "data": {
      "text/plain": [
       "['nd centuri parapleg marin dispatch moon pandora uniqu mission becom torn follow order protect alien civil']"
      ]
     },
     "execution_count": 39,
     "metadata": {},
     "output_type": "execute_result"
    }
   ],
   "source": [
    "movies['overview'][0]"
   ]
  },
  {
   "cell_type": "code",
   "execution_count": 32,
   "id": "51ace134",
   "metadata": {},
   "outputs": [],
   "source": [
    "from nltk.stem.porter import PorterStemmer\n",
    "import re\n",
    "ps = PorterStemmer()\n",
    "from nltk.corpus import stopwords\n",
    "stwords = stopwords.words('english')\n",
    "\n",
    "def stem(text):\n",
    "    y = []\n",
    "    text = re.sub('[^a-zA-Z]', ' ', text)\n",
    "    text = text.lower()\n",
    "    text = text.split()\n",
    "    for word in text:\n",
    "        if not word in stwords:\n",
    "            y.append(ps.stem(word))\n",
    "\n",
    "    return  [\" \".join(y)]"
   ]
  },
  {
   "cell_type": "code",
   "execution_count": 33,
   "id": "89516d78",
   "metadata": {},
   "outputs": [],
   "source": [
    "movies['overview'] = movies['overview'].fillna('')\n",
    "movies['overview'] = movies['overview'].apply(stem)"
   ]
  },
  {
   "cell_type": "code",
   "execution_count": 34,
   "id": "346592ce",
   "metadata": {},
   "outputs": [
    {
     "data": {
      "text/plain": [
       "0       [nd centuri parapleg marin dispatch moon pando...\n",
       "1       [captain barbossa long believ dead come back l...\n",
       "2       [cryptic messag bond past send trail uncov sin...\n",
       "3       [follow death district attorney harvey dent ba...\n",
       "4       [john carter war weari former militari captain...\n",
       "                              ...                        \n",
       "4798    [el mariachi want play guitar carri famili tra...\n",
       "4799    [newlyw coupl honeymoon upend arriv respect si...\n",
       "4800    [sign seal deliv introduc dedic quartet civil ...\n",
       "4801    [ambiti new york attorney sam sent shanghai as...\n",
       "4802    [ever sinc second grade first saw e extraterre...\n",
       "Name: overview, Length: 4803, dtype: object"
      ]
     },
     "execution_count": 34,
     "metadata": {},
     "output_type": "execute_result"
    }
   ],
   "source": [
    "movies['overview']"
   ]
  },
  {
   "cell_type": "code",
   "execution_count": 35,
   "id": "fe6be4fa",
   "metadata": {},
   "outputs": [
    {
     "data": {
      "text/plain": [
       "Index(['id', 'title', 'genres', 'keywords', 'original_language',\n",
       "       'production_companies', 'production_countries', 'overview', 'cast',\n",
       "       'crew'],\n",
       "      dtype='object')"
      ]
     },
     "execution_count": 35,
     "metadata": {},
     "output_type": "execute_result"
    }
   ],
   "source": [
    "movies.columns"
   ]
  },
  {
   "cell_type": "code",
   "execution_count": 40,
   "id": "96f9ea00",
   "metadata": {},
   "outputs": [
    {
     "data": {
      "text/html": [
       "<div>\n",
       "<style scoped>\n",
       "    .dataframe tbody tr th:only-of-type {\n",
       "        vertical-align: middle;\n",
       "    }\n",
       "\n",
       "    .dataframe tbody tr th {\n",
       "        vertical-align: top;\n",
       "    }\n",
       "\n",
       "    .dataframe thead th {\n",
       "        text-align: right;\n",
       "    }\n",
       "</style>\n",
       "<table border=\"1\" class=\"dataframe\">\n",
       "  <thead>\n",
       "    <tr style=\"text-align: right;\">\n",
       "      <th></th>\n",
       "      <th>id</th>\n",
       "      <th>title</th>\n",
       "      <th>genres</th>\n",
       "      <th>keywords</th>\n",
       "      <th>original_language</th>\n",
       "      <th>production_companies</th>\n",
       "      <th>production_countries</th>\n",
       "      <th>overview</th>\n",
       "      <th>cast</th>\n",
       "      <th>crew</th>\n",
       "    </tr>\n",
       "  </thead>\n",
       "  <tbody>\n",
       "    <tr>\n",
       "      <th>0</th>\n",
       "      <td>19995</td>\n",
       "      <td>Avatar</td>\n",
       "      <td>[action, adventure, fantasy, sciencefiction]</td>\n",
       "      <td>[culture_clash, future, space_war, space_colon...</td>\n",
       "      <td>[en]</td>\n",
       "      <td>[ingenious_film_partners, twentieth_century_fo...</td>\n",
       "      <td>[united_states_of_america, united_kingdom]</td>\n",
       "      <td>[nd centuri parapleg marin dispatch moon pando...</td>\n",
       "      <td>[sam_worthington, zoe_saldana, sigourney_weaver]</td>\n",
       "      <td>[james_cameron]</td>\n",
       "    </tr>\n",
       "    <tr>\n",
       "      <th>1</th>\n",
       "      <td>285</td>\n",
       "      <td>Pirates of the Caribbean: At World's End</td>\n",
       "      <td>[adventure, fantasy, action]</td>\n",
       "      <td>[ocean, drug_abuse, exotic_island, east_india_...</td>\n",
       "      <td>[en]</td>\n",
       "      <td>[walt_disney_pictures, jerry_bruckheimer_films...</td>\n",
       "      <td>[united_states_of_america]</td>\n",
       "      <td>[captain barbossa long believ dead come back l...</td>\n",
       "      <td>[johnny_depp, orlando_bloom, keira_knightley]</td>\n",
       "      <td>[gore_verbinski]</td>\n",
       "    </tr>\n",
       "    <tr>\n",
       "      <th>2</th>\n",
       "      <td>206647</td>\n",
       "      <td>Spectre</td>\n",
       "      <td>[action, adventure, crime]</td>\n",
       "      <td>[spy, based_on_novel, secret_agent, sequel, mi...</td>\n",
       "      <td>[en]</td>\n",
       "      <td>[columbia_pictures, danjaq, b24]</td>\n",
       "      <td>[united_kingdom, united_states_of_america]</td>\n",
       "      <td>[cryptic messag bond past send trail uncov sin...</td>\n",
       "      <td>[daniel_craig, christoph_waltz, léa_seydoux]</td>\n",
       "      <td>[sam_mendes]</td>\n",
       "    </tr>\n",
       "    <tr>\n",
       "      <th>3</th>\n",
       "      <td>49026</td>\n",
       "      <td>The Dark Knight Rises</td>\n",
       "      <td>[action, crime, drama, thriller]</td>\n",
       "      <td>[dc_comics, crime_fighter, terrorist, secret_i...</td>\n",
       "      <td>[en]</td>\n",
       "      <td>[legendary_pictures, warner_bros., dc_entertai...</td>\n",
       "      <td>[united_states_of_america]</td>\n",
       "      <td>[follow death district attorney harvey dent ba...</td>\n",
       "      <td>[christian_bale, michael_caine, gary_oldman]</td>\n",
       "      <td>[christopher_nolan]</td>\n",
       "    </tr>\n",
       "    <tr>\n",
       "      <th>4</th>\n",
       "      <td>49529</td>\n",
       "      <td>John Carter</td>\n",
       "      <td>[action, adventure, sciencefiction]</td>\n",
       "      <td>[based_on_novel, mars, medallion, space_travel...</td>\n",
       "      <td>[en]</td>\n",
       "      <td>[walt_disney_pictures]</td>\n",
       "      <td>[united_states_of_america]</td>\n",
       "      <td>[john carter war weari former militari captain...</td>\n",
       "      <td>[taylor_kitsch, lynn_collins, samantha_morton]</td>\n",
       "      <td>[andrew_stanton]</td>\n",
       "    </tr>\n",
       "  </tbody>\n",
       "</table>\n",
       "</div>"
      ],
      "text/plain": [
       "       id                                     title  \\\n",
       "0   19995                                    Avatar   \n",
       "1     285  Pirates of the Caribbean: At World's End   \n",
       "2  206647                                   Spectre   \n",
       "3   49026                     The Dark Knight Rises   \n",
       "4   49529                               John Carter   \n",
       "\n",
       "                                         genres  \\\n",
       "0  [action, adventure, fantasy, sciencefiction]   \n",
       "1                  [adventure, fantasy, action]   \n",
       "2                    [action, adventure, crime]   \n",
       "3              [action, crime, drama, thriller]   \n",
       "4           [action, adventure, sciencefiction]   \n",
       "\n",
       "                                            keywords original_language  \\\n",
       "0  [culture_clash, future, space_war, space_colon...              [en]   \n",
       "1  [ocean, drug_abuse, exotic_island, east_india_...              [en]   \n",
       "2  [spy, based_on_novel, secret_agent, sequel, mi...              [en]   \n",
       "3  [dc_comics, crime_fighter, terrorist, secret_i...              [en]   \n",
       "4  [based_on_novel, mars, medallion, space_travel...              [en]   \n",
       "\n",
       "                                production_companies  \\\n",
       "0  [ingenious_film_partners, twentieth_century_fo...   \n",
       "1  [walt_disney_pictures, jerry_bruckheimer_films...   \n",
       "2                   [columbia_pictures, danjaq, b24]   \n",
       "3  [legendary_pictures, warner_bros., dc_entertai...   \n",
       "4                             [walt_disney_pictures]   \n",
       "\n",
       "                         production_countries  \\\n",
       "0  [united_states_of_america, united_kingdom]   \n",
       "1                  [united_states_of_america]   \n",
       "2  [united_kingdom, united_states_of_america]   \n",
       "3                  [united_states_of_america]   \n",
       "4                  [united_states_of_america]   \n",
       "\n",
       "                                            overview  \\\n",
       "0  [nd centuri parapleg marin dispatch moon pando...   \n",
       "1  [captain barbossa long believ dead come back l...   \n",
       "2  [cryptic messag bond past send trail uncov sin...   \n",
       "3  [follow death district attorney harvey dent ba...   \n",
       "4  [john carter war weari former militari captain...   \n",
       "\n",
       "                                               cast                 crew  \n",
       "0  [sam_worthington, zoe_saldana, sigourney_weaver]      [james_cameron]  \n",
       "1     [johnny_depp, orlando_bloom, keira_knightley]     [gore_verbinski]  \n",
       "2      [daniel_craig, christoph_waltz, léa_seydoux]         [sam_mendes]  \n",
       "3      [christian_bale, michael_caine, gary_oldman]  [christopher_nolan]  \n",
       "4    [taylor_kitsch, lynn_collins, samantha_morton]     [andrew_stanton]  "
      ]
     },
     "execution_count": 40,
     "metadata": {},
     "output_type": "execute_result"
    }
   ],
   "source": [
    "movies.head()"
   ]
  },
  {
   "cell_type": "code",
   "execution_count": 41,
   "id": "724936bd",
   "metadata": {},
   "outputs": [
    {
     "name": "stdout",
     "output_type": "stream",
     "text": [
      "['action', 'adventure', 'fantasy', 'sciencefiction', 'culture_clash', 'future', 'space_war', 'space_colony', 'society', 'space_travel', 'futuristic', 'romance', 'space', 'alien', 'tribe', 'alien_planet', 'cgi', 'marine', 'soldier', 'battle', 'love_affair', 'anti_war', 'power_relations', 'mind_and_soul', '3d', 'en', 'ingenious_film_partners', 'twentieth_century_fox_film_corporation', 'dune_entertainment', 'lightstorm_entertainment', 'united_states_of_america', 'united_kingdom', 'sam_worthington', 'zoe_saldana', 'sigourney_weaver', 'james_cameron']\n"
     ]
    }
   ],
   "source": [
    "movies['tags'] = movies['genres']+movies['keywords']+movies['original_language']+movies['production_companies'] \\\n",
    "            +movies['production_countries']+movies['cast']+movies['crew']\n",
    "print(movies['tags'][0])"
   ]
  },
  {
   "cell_type": "code",
   "execution_count": 42,
   "id": "a1b9ad96",
   "metadata": {},
   "outputs": [
    {
     "data": {
      "text/plain": [
       "'action adventure fantasy sciencefiction culture_clash future space_war space_colony society space_travel futuristic romance space alien tribe alien_planet cgi marine soldier battle love_affair anti_war power_relations mind_and_soul 3d en ingenious_film_partners twentieth_century_fox_film_corporation dune_entertainment lightstorm_entertainment united_states_of_america united_kingdom sam_worthington zoe_saldana sigourney_weaver james_cameron'"
      ]
     },
     "execution_count": 42,
     "metadata": {},
     "output_type": "execute_result"
    }
   ],
   "source": [
    "movies['tags'] = movies['tags'].apply(lambda x: \" \".join(x))\n",
    "movies['tags'][0]"
   ]
  },
  {
   "cell_type": "code",
   "execution_count": 43,
   "id": "4ba50d4e",
   "metadata": {},
   "outputs": [
    {
     "data": {
      "text/plain": [
       "'nd centuri parapleg marin dispatch moon pandora uniqu mission becom torn follow order protect alien civil'"
      ]
     },
     "execution_count": 43,
     "metadata": {},
     "output_type": "execute_result"
    }
   ],
   "source": [
    "movies['overview'] = movies['overview'].apply(lambda x: \" \".join(x))\n",
    "movies['overview'][0]"
   ]
  },
  {
   "cell_type": "code",
   "execution_count": 44,
   "id": "a7dc6288",
   "metadata": {},
   "outputs": [],
   "source": [
    "df = movies[['id','title','tags','overview']]"
   ]
  },
  {
   "cell_type": "code",
   "execution_count": 45,
   "id": "04daf945",
   "metadata": {},
   "outputs": [],
   "source": [
    "pickle.dump(df.to_dict(), open('movies.pkl','wb'))"
   ]
  },
  {
   "cell_type": "code",
   "execution_count": null,
   "id": "776406f2",
   "metadata": {},
   "outputs": [],
   "source": []
  },
  {
   "cell_type": "code",
   "execution_count": 97,
   "id": "63623739",
   "metadata": {},
   "outputs": [],
   "source": [
    "from sklearn.feature_extraction.text import CountVectorizer\n",
    "\n",
    "cv = CountVectorizer(max_features=5000)"
   ]
  },
  {
   "cell_type": "code",
   "execution_count": 98,
   "id": "fa8aed77",
   "metadata": {},
   "outputs": [],
   "source": [
    "vectors = cv.fit_transform(new_df).toarray()"
   ]
  },
  {
   "cell_type": "code",
   "execution_count": 99,
   "id": "25314f9e",
   "metadata": {},
   "outputs": [
    {
     "data": {
      "text/plain": [
       "(4803, 5000)"
      ]
     },
     "execution_count": 99,
     "metadata": {},
     "output_type": "execute_result"
    }
   ],
   "source": [
    "vectors.shape"
   ]
  },
  {
   "cell_type": "code",
   "execution_count": 100,
   "id": "9beaeeb5",
   "metadata": {},
   "outputs": [],
   "source": [
    "from sklearn.metrics.pairwise import cosine_similarity"
   ]
  },
  {
   "cell_type": "code",
   "execution_count": 101,
   "id": "971362ef",
   "metadata": {},
   "outputs": [],
   "source": [
    "similarity = cosine_similarity([vectors[0]],vectors)"
   ]
  },
  {
   "cell_type": "code",
   "execution_count": 102,
   "id": "45a666ae",
   "metadata": {},
   "outputs": [
    {
     "data": {
      "text/plain": [
       "(1, 4803)"
      ]
     },
     "execution_count": 102,
     "metadata": {},
     "output_type": "execute_result"
    }
   ],
   "source": [
    "similarity.shape"
   ]
  },
  {
   "cell_type": "code",
   "execution_count": 49,
   "id": "d330ab7c",
   "metadata": {},
   "outputs": [],
   "source": [
    "def get_recommendations(movie):\n",
    "    idx = movies[movies['title']==movie].index[0]\n",
    "    sim_scores = list(enumerate(similarity[idx]))\n",
    "    sim_scores = sorted(sim_scores, key=lambda x: x[1], reverse=True)\n",
    "    sim_scores = sim_scores[1:11]\n",
    "    movie_indices = [i[0] for i in sim_scores]\n",
    "    return movies['title'].iloc[movie_indices]"
   ]
  },
  {
   "cell_type": "code",
   "execution_count": 50,
   "id": "6e42b161",
   "metadata": {},
   "outputs": [
    {
     "data": {
      "text/plain": [
       "1216                  Aliens vs Predator: Requiem\n",
       "507                              Independence Day\n",
       "539                                    Titan A.E.\n",
       "2409                                       Aliens\n",
       "1204                                    Predators\n",
       "260                                  Ender's Game\n",
       "61                              Jupiter Ascending\n",
       "778                                     Meet Dave\n",
       "1920                                    Lifeforce\n",
       "172     The Twilight Saga: Breaking Dawn - Part 2\n",
       "Name: title, dtype: object"
      ]
     },
     "execution_count": 50,
     "metadata": {},
     "output_type": "execute_result"
    }
   ],
   "source": [
    "get_recommendations('Avatar')"
   ]
  },
  {
   "cell_type": "code",
   "execution_count": 51,
   "id": "5ac88035",
   "metadata": {},
   "outputs": [
    {
     "data": {
      "text/plain": [
       "1340                                             Twilight\n",
       "898                           The Twilight Saga: New Moon\n",
       "612                            The Twilight Saga: Eclipse\n",
       "4355                                       Love Me Tender\n",
       "777                 The Mortal Instruments: City of Bones\n",
       "2699                                   New York, New York\n",
       "4641    The Incredibly True Adventure of Two Girls In ...\n",
       "912                            Interview with the Vampire\n",
       "2480                              Arn: The Knight Templar\n",
       "4314                                               Desire\n",
       "Name: title, dtype: object"
      ]
     },
     "execution_count": 51,
     "metadata": {},
     "output_type": "execute_result"
    }
   ],
   "source": [
    "get_recommendations('The Twilight Saga: Breaking Dawn - Part 2')"
   ]
  },
  {
   "cell_type": "code",
   "execution_count": 56,
   "id": "88d7635f",
   "metadata": {},
   "outputs": [
    {
     "data": {
      "text/plain": [
       "7                     Avengers: Age of Ultron\n",
       "31                                 Iron Man 3\n",
       "26                 Captain America: Civil War\n",
       "169        Captain America: The First Avenger\n",
       "68                                   Iron Man\n",
       "182                                   Ant-Man\n",
       "215    Fantastic 4: Rise of the Silver Surfer\n",
       "85        Captain America: The Winter Soldier\n",
       "511                                     X-Men\n",
       "126                      Thor: The Dark World\n",
       "Name: title, dtype: object"
      ]
     },
     "execution_count": 56,
     "metadata": {},
     "output_type": "execute_result"
    }
   ],
   "source": [
    "get_recommendations('The Avengers')"
   ]
  },
  {
   "cell_type": "code",
   "execution_count": 65,
   "id": "11ed914c",
   "metadata": {},
   "outputs": [],
   "source": [
    "import pickle"
   ]
  },
  {
   "cell_type": "code",
   "execution_count": 72,
   "id": "d8e5b6f0",
   "metadata": {},
   "outputs": [],
   "source": [
    "pickle.dump(movies.to_dict(), open('movie_dict.pkl','wb'))"
   ]
  },
  {
   "cell_type": "code",
   "execution_count": 67,
   "id": "ea03c54c",
   "metadata": {},
   "outputs": [],
   "source": [
    "pickle.dump(similarity, open('similarity.pkl','wb'))"
   ]
  },
  {
   "cell_type": "code",
   "execution_count": 78,
   "id": "1e85909e",
   "metadata": {},
   "outputs": [],
   "source": [
    "import requests\n",
    "def fetch_poster(movie_id):\n",
    "    response = requests.get(\"https://api.themoviedb.org/3/movie/{}?api_key=4d3a04e97e46d3313ca2082c381d09e2&language=en-US\".format(movie_id))\n",
    "    data = response.json()\n",
    "    return data\n",
    "\n",
    "def get_popular_movies(df):\n",
    "    popular_movies = dict()\n",
    "    for i in list(df.sort_values('popularity_score', ascending=False)['movie_id'].head(8)):\n",
    "        popular_movies[i] = fetch_poster(i)\n",
    "        \n",
    "    return popular_movies"
   ]
  },
  {
   "cell_type": "code",
   "execution_count": 79,
   "id": "71e1da8e",
   "metadata": {},
   "outputs": [],
   "source": [
    "d = get_popular_movies(movies)"
   ]
  },
  {
   "cell_type": "code",
   "execution_count": 80,
   "id": "273b5a7e",
   "metadata": {},
   "outputs": [
    {
     "data": {
      "text/plain": [
       "{278: {'adult': False,\n",
       "  'backdrop_path': '/kXfqcdQKsToO0OUXHcrrNCHDBzO.jpg',\n",
       "  'belongs_to_collection': None,\n",
       "  'budget': 25000000,\n",
       "  'genres': [{'id': 18, 'name': 'Drama'}, {'id': 80, 'name': 'Crime'}],\n",
       "  'homepage': '',\n",
       "  'id': 278,\n",
       "  'imdb_id': 'tt0111161',\n",
       "  'original_language': 'en',\n",
       "  'original_title': 'The Shawshank Redemption',\n",
       "  'overview': 'Framed in the 1940s for the double murder of his wife and her lover, upstanding banker Andy Dufresne begins a new life at the Shawshank prison, where he puts his accounting skills to work for an amoral warden. During his long stretch in prison, Dufresne comes to be admired by the other inmates -- including an older prisoner named Red -- for his integrity and unquenchable sense of hope.',\n",
       "  'popularity': 88.33,\n",
       "  'poster_path': '/q6y0Go1tsGEsmtFryDOJo3dEmqu.jpg',\n",
       "  'production_companies': [{'id': 97,\n",
       "    'logo_path': '/7znWcbDd4PcJzJUlJxYqAlPPykp.png',\n",
       "    'name': 'Castle Rock Entertainment',\n",
       "    'origin_country': 'US'}],\n",
       "  'production_countries': [{'iso_3166_1': 'US',\n",
       "    'name': 'United States of America'}],\n",
       "  'release_date': '1994-09-23',\n",
       "  'revenue': 28341469,\n",
       "  'runtime': 142,\n",
       "  'spoken_languages': [{'english_name': 'English',\n",
       "    'iso_639_1': 'en',\n",
       "    'name': 'English'}],\n",
       "  'status': 'Released',\n",
       "  'tagline': 'Fear can hold you prisoner. Hope can set you free.',\n",
       "  'title': 'The Shawshank Redemption',\n",
       "  'video': False,\n",
       "  'vote_average': 8.7,\n",
       "  'vote_count': 22640},\n",
       " 550: {'adult': False,\n",
       "  'backdrop_path': '/c6OLXfKAk5BKeR6broC8pYiCquX.jpg',\n",
       "  'belongs_to_collection': None,\n",
       "  'budget': 63000000,\n",
       "  'genres': [{'id': 18, 'name': 'Drama'},\n",
       "   {'id': 53, 'name': 'Thriller'},\n",
       "   {'id': 35, 'name': 'Comedy'}],\n",
       "  'homepage': 'http://www.foxmovies.com/movies/fight-club',\n",
       "  'id': 550,\n",
       "  'imdb_id': 'tt0137523',\n",
       "  'original_language': 'en',\n",
       "  'original_title': 'Fight Club',\n",
       "  'overview': 'A ticking-time-bomb insomniac and a slippery soap salesman channel primal male aggression into a shocking new form of therapy. Their concept catches on, with underground \"fight clubs\" forming in every town, until an eccentric gets in the way and ignites an out-of-control spiral toward oblivion.',\n",
       "  'popularity': 110.026,\n",
       "  'poster_path': '/pB8BM7pdSp6B6Ih7QZ4DrQ3PmJK.jpg',\n",
       "  'production_companies': [{'id': 508,\n",
       "    'logo_path': '/7cxRWzi4LsVm4Utfpr1hfARNurT.png',\n",
       "    'name': 'Regency Enterprises',\n",
       "    'origin_country': 'US'},\n",
       "   {'id': 711,\n",
       "    'logo_path': '/tEiIH5QesdheJmDAqQwvtN60727.png',\n",
       "    'name': 'Fox 2000 Pictures',\n",
       "    'origin_country': 'US'},\n",
       "   {'id': 4700,\n",
       "    'logo_path': '/A32wmjrs9Psf4zw0uaixF0GXfxq.png',\n",
       "    'name': 'The Linson Company',\n",
       "    'origin_country': 'US'},\n",
       "   {'id': 20555,\n",
       "    'logo_path': '/hD8yEGUBlHOcfHYbujp71vD8gZp.png',\n",
       "    'name': 'Taurus Film',\n",
       "    'origin_country': 'DE'},\n",
       "   {'id': 54051,\n",
       "    'logo_path': None,\n",
       "    'name': 'Atman Entertainment',\n",
       "    'origin_country': ''},\n",
       "   {'id': 54052,\n",
       "    'logo_path': None,\n",
       "    'name': 'Knickerbocker Films',\n",
       "    'origin_country': 'US'}],\n",
       "  'production_countries': [{'iso_3166_1': 'DE', 'name': 'Germany'},\n",
       "   {'iso_3166_1': 'US', 'name': 'United States of America'}],\n",
       "  'release_date': '1999-10-15',\n",
       "  'revenue': 100853753,\n",
       "  'runtime': 139,\n",
       "  'spoken_languages': [{'english_name': 'English',\n",
       "    'iso_639_1': 'en',\n",
       "    'name': 'English'}],\n",
       "  'status': 'Released',\n",
       "  'tagline': 'Mischief. Mayhem. Soap.',\n",
       "  'title': 'Fight Club',\n",
       "  'video': False,\n",
       "  'vote_average': 8.427,\n",
       "  'vote_count': 25160},\n",
       " 155: {'adult': False,\n",
       "  'backdrop_path': '/nMKdUUepR0i5zn0y1T4CsSB5chy.jpg',\n",
       "  'belongs_to_collection': {'id': 263,\n",
       "   'name': 'The Dark Knight Collection',\n",
       "   'poster_path': '/hGvOMQBD88jAV0olS2DT1AxreHn.jpg',\n",
       "   'backdrop_path': '/xfKot7lqaiW4XpL5TtDlVBA9ei9.jpg'},\n",
       "  'budget': 185000000,\n",
       "  'genres': [{'id': 18, 'name': 'Drama'},\n",
       "   {'id': 28, 'name': 'Action'},\n",
       "   {'id': 80, 'name': 'Crime'},\n",
       "   {'id': 53, 'name': 'Thriller'}],\n",
       "  'homepage': 'https://www.warnerbros.com/movies/dark-knight/',\n",
       "  'id': 155,\n",
       "  'imdb_id': 'tt0468569',\n",
       "  'original_language': 'en',\n",
       "  'original_title': 'The Dark Knight',\n",
       "  'overview': 'Batman raises the stakes in his war on crime. With the help of Lt. Jim Gordon and District Attorney Harvey Dent, Batman sets out to dismantle the remaining criminal organizations that plague the streets. The partnership proves to be effective, but they soon find themselves prey to a reign of chaos unleashed by a rising criminal mastermind known to the terrified citizens of Gotham as the Joker.',\n",
       "  'popularity': 106.462,\n",
       "  'poster_path': '/qJ2tW6WMUDux911r6m7haRef0WH.jpg',\n",
       "  'production_companies': [{'id': 174,\n",
       "    'logo_path': '/IuAlhI9eVC9Z8UQWOIDdWRKSEJ.png',\n",
       "    'name': 'Warner Bros. Pictures',\n",
       "    'origin_country': 'US'},\n",
       "   {'id': 429,\n",
       "    'logo_path': '/2Tc1P3Ac8M479naPp1kYT3izLS5.png',\n",
       "    'name': 'DC Comics',\n",
       "    'origin_country': 'US'},\n",
       "   {'id': 923,\n",
       "    'logo_path': '/5UQsZrfbfG2dYJbx8DxfoTr2Bvu.png',\n",
       "    'name': 'Legendary Pictures',\n",
       "    'origin_country': 'US'},\n",
       "   {'id': 9996,\n",
       "    'logo_path': '/3tvBqYsBhxWeHlu62SIJ1el93O7.png',\n",
       "    'name': 'Syncopy',\n",
       "    'origin_country': 'GB'},\n",
       "   {'id': 118865,\n",
       "    'logo_path': None,\n",
       "    'name': 'Isobel Griffiths',\n",
       "    'origin_country': 'GB'}],\n",
       "  'production_countries': [{'iso_3166_1': 'GB', 'name': 'United Kingdom'},\n",
       "   {'iso_3166_1': 'US', 'name': 'United States of America'}],\n",
       "  'release_date': '2008-07-14',\n",
       "  'revenue': 1004558444,\n",
       "  'runtime': 152,\n",
       "  'spoken_languages': [{'english_name': 'English',\n",
       "    'iso_639_1': 'en',\n",
       "    'name': 'English'},\n",
       "   {'english_name': 'Mandarin', 'iso_639_1': 'zh', 'name': '普通话'}],\n",
       "  'status': 'Released',\n",
       "  'tagline': 'Welcome to a world without rules.',\n",
       "  'title': 'The Dark Knight',\n",
       "  'video': False,\n",
       "  'vote_average': 8.503,\n",
       "  'vote_count': 28565},\n",
       " 680: {'adult': False,\n",
       "  'backdrop_path': '/suaEOtk1N1sgg2MTM7oZd2cfVp3.jpg',\n",
       "  'belongs_to_collection': None,\n",
       "  'budget': 8000000,\n",
       "  'genres': [{'id': 53, 'name': 'Thriller'}, {'id': 80, 'name': 'Crime'}],\n",
       "  'homepage': 'https://www.miramax.com/movie/pulp-fiction/',\n",
       "  'id': 680,\n",
       "  'imdb_id': 'tt0110912',\n",
       "  'original_language': 'en',\n",
       "  'original_title': 'Pulp Fiction',\n",
       "  'overview': \"A burger-loving hit man, his philosophical partner, a drug-addled gangster's moll and a washed-up boxer converge in this sprawling, comedic crime caper. Their adventures unfurl in three stories that ingeniously trip back and forth in time.\",\n",
       "  'popularity': 116.225,\n",
       "  'poster_path': '/fIE3lAGcZDV1G6XM5KmuWnNsPp1.jpg',\n",
       "  'production_companies': [{'id': 14,\n",
       "    'logo_path': '/m6AHu84oZQxvq7n1rsvMNJIAsMu.png',\n",
       "    'name': 'Miramax',\n",
       "    'origin_country': 'US'},\n",
       "   {'id': 59,\n",
       "    'logo_path': '/yH7OMeSxhfP0AVM6iT0rsF3F4ZC.png',\n",
       "    'name': 'A Band Apart',\n",
       "    'origin_country': 'US'},\n",
       "   {'id': 216,\n",
       "    'logo_path': None,\n",
       "    'name': 'Jersey Films',\n",
       "    'origin_country': 'US'}],\n",
       "  'production_countries': [{'iso_3166_1': 'US',\n",
       "    'name': 'United States of America'}],\n",
       "  'release_date': '1994-09-10',\n",
       "  'revenue': 214179088,\n",
       "  'runtime': 154,\n",
       "  'spoken_languages': [{'english_name': 'English',\n",
       "    'iso_639_1': 'en',\n",
       "    'name': 'English'},\n",
       "   {'english_name': 'Spanish', 'iso_639_1': 'es', 'name': 'Español'},\n",
       "   {'english_name': 'French', 'iso_639_1': 'fr', 'name': 'Français'}],\n",
       "  'status': 'Released',\n",
       "  'tagline': \"Just because you are a character doesn't mean you have character.\",\n",
       "  'title': 'Pulp Fiction',\n",
       "  'video': False,\n",
       "  'vote_average': 8.5,\n",
       "  'vote_count': 24043},\n",
       " 27205: {'adult': False,\n",
       "  'backdrop_path': '/s3TBrRGB1iav7gFOCNx3H31MoES.jpg',\n",
       "  'belongs_to_collection': None,\n",
       "  'budget': 160000000,\n",
       "  'genres': [{'id': 28, 'name': 'Action'},\n",
       "   {'id': 878, 'name': 'Science Fiction'},\n",
       "   {'id': 12, 'name': 'Adventure'}],\n",
       "  'homepage': 'https://www.warnerbros.com/movies/inception',\n",
       "  'id': 27205,\n",
       "  'imdb_id': 'tt1375666',\n",
       "  'original_language': 'en',\n",
       "  'original_title': 'Inception',\n",
       "  'overview': 'Cobb, a skilled thief who commits corporate espionage by infiltrating the subconscious of his targets is offered a chance to regain his old life as payment for a task considered to be impossible: \"inception\", the implantation of another person\\'s idea into a target\\'s subconscious.',\n",
       "  'popularity': 116.251,\n",
       "  'poster_path': '/8IB2e4r4oVhHnANbnm7O3Tj6tF8.jpg',\n",
       "  'production_companies': [{'id': 174,\n",
       "    'logo_path': '/IuAlhI9eVC9Z8UQWOIDdWRKSEJ.png',\n",
       "    'name': 'Warner Bros. Pictures',\n",
       "    'origin_country': 'US'},\n",
       "   {'id': 923,\n",
       "    'logo_path': '/5UQsZrfbfG2dYJbx8DxfoTr2Bvu.png',\n",
       "    'name': 'Legendary Pictures',\n",
       "    'origin_country': 'US'},\n",
       "   {'id': 9996,\n",
       "    'logo_path': '/3tvBqYsBhxWeHlu62SIJ1el93O7.png',\n",
       "    'name': 'Syncopy',\n",
       "    'origin_country': 'GB'}],\n",
       "  'production_countries': [{'iso_3166_1': 'GB', 'name': 'United Kingdom'},\n",
       "   {'iso_3166_1': 'US', 'name': 'United States of America'}],\n",
       "  'release_date': '2010-07-15',\n",
       "  'revenue': 825532764,\n",
       "  'runtime': 148,\n",
       "  'spoken_languages': [{'english_name': 'English',\n",
       "    'iso_639_1': 'en',\n",
       "    'name': 'English'},\n",
       "   {'english_name': 'Japanese', 'iso_639_1': 'ja', 'name': '日本語'},\n",
       "   {'english_name': 'Swahili', 'iso_639_1': 'sw', 'name': 'Kiswahili'}],\n",
       "  'status': 'Released',\n",
       "  'tagline': 'Your mind is the scene of the crime.',\n",
       "  'title': 'Inception',\n",
       "  'video': False,\n",
       "  'vote_average': 8.358,\n",
       "  'vote_count': 32579},\n",
       " 238: {'adult': False,\n",
       "  'backdrop_path': '/rSPw7tgCH9c6NqICZef4kZjFOQ5.jpg',\n",
       "  'belongs_to_collection': {'id': 230,\n",
       "   'name': 'The Godfather Collection',\n",
       "   'poster_path': '/9Baumh5J9N1nJUYzNkm0xsgjpwY.jpg',\n",
       "   'backdrop_path': '/3WZTxpgscsmoUk81TuECXdFOD0R.jpg'},\n",
       "  'budget': 6000000,\n",
       "  'genres': [{'id': 18, 'name': 'Drama'}, {'id': 80, 'name': 'Crime'}],\n",
       "  'homepage': 'http://www.thegodfather.com/',\n",
       "  'id': 238,\n",
       "  'imdb_id': 'tt0068646',\n",
       "  'original_language': 'en',\n",
       "  'original_title': 'The Godfather',\n",
       "  'overview': 'Spanning the years 1945 to 1955, a chronicle of the fictional Italian-American Corleone crime family. When organized crime family patriarch, Vito Corleone barely survives an attempt on his life, his youngest son, Michael steps in to take care of the would-be killers, launching a campaign of bloody revenge.',\n",
       "  'popularity': 115.717,\n",
       "  'poster_path': '/3bhkrj58Vtu7enYsRolD1fZdja1.jpg',\n",
       "  'production_companies': [{'id': 4,\n",
       "    'logo_path': '/gz66EfNoYPqHTYI4q9UEN4CbHRc.png',\n",
       "    'name': 'Paramount',\n",
       "    'origin_country': 'US'},\n",
       "   {'id': 10211,\n",
       "    'logo_path': None,\n",
       "    'name': 'Alfran Productions',\n",
       "    'origin_country': 'US'}],\n",
       "  'production_countries': [{'iso_3166_1': 'US',\n",
       "    'name': 'United States of America'}],\n",
       "  'release_date': '1972-03-14',\n",
       "  'revenue': 245066411,\n",
       "  'runtime': 175,\n",
       "  'spoken_languages': [{'english_name': 'English',\n",
       "    'iso_639_1': 'en',\n",
       "    'name': 'English'},\n",
       "   {'english_name': 'Italian', 'iso_639_1': 'it', 'name': 'Italiano'},\n",
       "   {'english_name': 'Latin', 'iso_639_1': 'la', 'name': 'Latin'}],\n",
       "  'status': 'Released',\n",
       "  'tagline': \"An offer you can't refuse.\",\n",
       "  'title': 'The Godfather',\n",
       "  'video': False,\n",
       "  'vote_average': 8.715,\n",
       "  'vote_count': 16898},\n",
       " 157336: {'adult': False,\n",
       "  'backdrop_path': '/vgnoBSVzWAV9sNQUORaDGvDp7wx.jpg',\n",
       "  'belongs_to_collection': None,\n",
       "  'budget': 165000000,\n",
       "  'genres': [{'id': 12, 'name': 'Adventure'},\n",
       "   {'id': 18, 'name': 'Drama'},\n",
       "   {'id': 878, 'name': 'Science Fiction'}],\n",
       "  'homepage': 'http://www.interstellarmovie.net/',\n",
       "  'id': 157336,\n",
       "  'imdb_id': 'tt0816692',\n",
       "  'original_language': 'en',\n",
       "  'original_title': 'Interstellar',\n",
       "  'overview': 'The adventures of a group of explorers who make use of a newly discovered wormhole to surpass the limitations on human space travel and conquer the vast distances involved in an interstellar voyage.',\n",
       "  'popularity': 290.191,\n",
       "  'poster_path': '/gEU2QniE6E77NI6lCU6MxlNBvIx.jpg',\n",
       "  'production_companies': [{'id': 923,\n",
       "    'logo_path': '/5UQsZrfbfG2dYJbx8DxfoTr2Bvu.png',\n",
       "    'name': 'Legendary Pictures',\n",
       "    'origin_country': 'US'},\n",
       "   {'id': 9996,\n",
       "    'logo_path': '/3tvBqYsBhxWeHlu62SIJ1el93O7.png',\n",
       "    'name': 'Syncopy',\n",
       "    'origin_country': 'GB'},\n",
       "   {'id': 13769,\n",
       "    'logo_path': None,\n",
       "    'name': 'Lynda Obst Productions',\n",
       "    'origin_country': ''}],\n",
       "  'production_countries': [{'iso_3166_1': 'GB', 'name': 'United Kingdom'},\n",
       "   {'iso_3166_1': 'US', 'name': 'United States of America'}],\n",
       "  'release_date': '2014-11-05',\n",
       "  'revenue': 701729206,\n",
       "  'runtime': 169,\n",
       "  'spoken_languages': [{'english_name': 'English',\n",
       "    'iso_639_1': 'en',\n",
       "    'name': 'English'}],\n",
       "  'status': 'Released',\n",
       "  'tagline': 'Mankind was born on Earth. It was never meant to die here.',\n",
       "  'title': 'Interstellar',\n",
       "  'video': False,\n",
       "  'vote_average': 8.382,\n",
       "  'vote_count': 29766},\n",
       " 13: {'adult': False,\n",
       "  'backdrop_path': '/67HggiWaP9ZLv5sPYmyRV37yAJM.jpg',\n",
       "  'belongs_to_collection': None,\n",
       "  'budget': 55000000,\n",
       "  'genres': [{'id': 35, 'name': 'Comedy'},\n",
       "   {'id': 18, 'name': 'Drama'},\n",
       "   {'id': 10749, 'name': 'Romance'}],\n",
       "  'homepage': 'https://www.paramountmovies.com/movies/forrest-gump',\n",
       "  'id': 13,\n",
       "  'imdb_id': 'tt0109830',\n",
       "  'original_language': 'en',\n",
       "  'original_title': 'Forrest Gump',\n",
       "  'overview': 'A man with a low IQ has accomplished great things in his life and been present during significant historic events—in each case, far exceeding what anyone imagined he could do. But despite all he has achieved, his one true love eludes him.',\n",
       "  'popularity': 68.745,\n",
       "  'poster_path': '/saHP97rTPS5eLmrLQEcANmKrsFl.jpg',\n",
       "  'production_companies': [{'id': 4,\n",
       "    'logo_path': '/gz66EfNoYPqHTYI4q9UEN4CbHRc.png',\n",
       "    'name': 'Paramount',\n",
       "    'origin_country': 'US'},\n",
       "   {'id': 412,\n",
       "    'logo_path': None,\n",
       "    'name': 'Wendy Finerman Productions',\n",
       "    'origin_country': ''},\n",
       "   {'id': 21920,\n",
       "    'logo_path': None,\n",
       "    'name': 'The Steve Tisch Company',\n",
       "    'origin_country': ''}],\n",
       "  'production_countries': [{'iso_3166_1': 'US',\n",
       "    'name': 'United States of America'}],\n",
       "  'release_date': '1994-06-23',\n",
       "  'revenue': 677387716,\n",
       "  'runtime': 142,\n",
       "  'spoken_languages': [{'english_name': 'English',\n",
       "    'iso_639_1': 'en',\n",
       "    'name': 'English'}],\n",
       "  'status': 'Released',\n",
       "  'tagline': \"The world will never be the same once you've seen it through the eyes of Forrest Gump.\",\n",
       "  'title': 'Forrest Gump',\n",
       "  'video': False,\n",
       "  'vote_average': 8.481,\n",
       "  'vote_count': 23589}}"
      ]
     },
     "execution_count": 80,
     "metadata": {},
     "output_type": "execute_result"
    }
   ],
   "source": [
    "d"
   ]
  },
  {
   "cell_type": "code",
   "execution_count": 84,
   "id": "f0f8c9bb",
   "metadata": {},
   "outputs": [
    {
     "name": "stdout",
     "output_type": "stream",
     "text": [
      "278\n",
      "550\n",
      "155\n",
      "680\n",
      "27205\n",
      "238\n",
      "157336\n",
      "13\n"
     ]
    }
   ],
   "source": [
    "for i in d.keys():\n",
    "    print(i)"
   ]
  },
  {
   "cell_type": "code",
   "execution_count": 83,
   "id": "0b48dea3",
   "metadata": {},
   "outputs": [
    {
     "data": {
      "text/plain": [
       "'/q6y0Go1tsGEsmtFryDOJo3dEmqu.jpg'"
      ]
     },
     "execution_count": 83,
     "metadata": {},
     "output_type": "execute_result"
    }
   ],
   "source": [
    "d[278]['poster_path']"
   ]
  },
  {
   "cell_type": "code",
   "execution_count": 85,
   "id": "85536d20",
   "metadata": {},
   "outputs": [
    {
     "data": {
      "text/plain": [
       "{'adult': False,\n",
       " 'backdrop_path': '/kXfqcdQKsToO0OUXHcrrNCHDBzO.jpg',\n",
       " 'belongs_to_collection': None,\n",
       " 'budget': 25000000,\n",
       " 'genres': [{'id': 18, 'name': 'Drama'}, {'id': 80, 'name': 'Crime'}],\n",
       " 'homepage': '',\n",
       " 'id': 278,\n",
       " 'imdb_id': 'tt0111161',\n",
       " 'original_language': 'en',\n",
       " 'original_title': 'The Shawshank Redemption',\n",
       " 'overview': 'Framed in the 1940s for the double murder of his wife and her lover, upstanding banker Andy Dufresne begins a new life at the Shawshank prison, where he puts his accounting skills to work for an amoral warden. During his long stretch in prison, Dufresne comes to be admired by the other inmates -- including an older prisoner named Red -- for his integrity and unquenchable sense of hope.',\n",
       " 'popularity': 88.33,\n",
       " 'poster_path': '/q6y0Go1tsGEsmtFryDOJo3dEmqu.jpg',\n",
       " 'production_companies': [{'id': 97,\n",
       "   'logo_path': '/7znWcbDd4PcJzJUlJxYqAlPPykp.png',\n",
       "   'name': 'Castle Rock Entertainment',\n",
       "   'origin_country': 'US'}],\n",
       " 'production_countries': [{'iso_3166_1': 'US',\n",
       "   'name': 'United States of America'}],\n",
       " 'release_date': '1994-09-23',\n",
       " 'revenue': 28341469,\n",
       " 'runtime': 142,\n",
       " 'spoken_languages': [{'english_name': 'English',\n",
       "   'iso_639_1': 'en',\n",
       "   'name': 'English'}],\n",
       " 'status': 'Released',\n",
       " 'tagline': 'Fear can hold you prisoner. Hope can set you free.',\n",
       " 'title': 'The Shawshank Redemption',\n",
       " 'video': False,\n",
       " 'vote_average': 8.7,\n",
       " 'vote_count': 22640}"
      ]
     },
     "execution_count": 85,
     "metadata": {},
     "output_type": "execute_result"
    }
   ],
   "source": [
    "d[278]"
   ]
  },
  {
   "cell_type": "code",
   "execution_count": 93,
   "id": "2b7743db",
   "metadata": {},
   "outputs": [
    {
     "name": "stdout",
     "output_type": "stream",
     "text": [
      "English\n"
     ]
    }
   ],
   "source": [
    "for i in d[278]['spoken_languages']:\n",
    "    print(i['name'])"
   ]
  },
  {
   "cell_type": "code",
   "execution_count": 90,
   "id": "d8c587bf",
   "metadata": {},
   "outputs": [
    {
     "data": {
      "text/plain": [
       "{'id': 18, 'name': 'Drama'}"
      ]
     },
     "execution_count": 90,
     "metadata": {},
     "output_type": "execute_result"
    }
   ],
   "source": [
    "d[278]['genres'][0]"
   ]
  },
  {
   "cell_type": "code",
   "execution_count": 94,
   "id": "ec776b99",
   "metadata": {},
   "outputs": [],
   "source": [
    "def get_recommendations(id):\n",
    "    idx = movies[movies['movie_id']==id].index[0]\n",
    "    sim_scores = list(enumerate(similarity[idx]))\n",
    "    sim_scores = sorted(sim_scores, key=lambda x: x[1], reverse=True)\n",
    "    sim_scores = sim_scores[1:11]\n",
    "    movie_indices = [i[0] for i in sim_scores]\n",
    "    return movies['movie_id'].iloc[movie_indices]"
   ]
  },
  {
   "cell_type": "code",
   "execution_count": 96,
   "id": "cb9a5c2c",
   "metadata": {},
   "outputs": [
    {
     "data": {
      "text/plain": [
       "[9341, 30379, 47933, 88751, 56288, 19585, 49521, 10195, 12589, 24432]"
      ]
     },
     "execution_count": 96,
     "metadata": {},
     "output_type": "execute_result"
    }
   ],
   "source": [
    "list(get_recommendations(14161))"
   ]
  },
  {
   "cell_type": "code",
   "execution_count": null,
   "id": "f1c37b6f",
   "metadata": {},
   "outputs": [],
   "source": []
  }
 ],
 "metadata": {
  "kernelspec": {
   "display_name": "Python 3 (ipykernel)",
   "language": "python",
   "name": "python3"
  },
  "language_info": {
   "codemirror_mode": {
    "name": "ipython",
    "version": 3
   },
   "file_extension": ".py",
   "mimetype": "text/x-python",
   "name": "python",
   "nbconvert_exporter": "python",
   "pygments_lexer": "ipython3",
   "version": "3.9.12"
  }
 },
 "nbformat": 4,
 "nbformat_minor": 5
}
